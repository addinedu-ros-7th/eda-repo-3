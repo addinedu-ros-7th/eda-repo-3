{
 "cells": [
  {
   "cell_type": "code",
   "execution_count": 8,
   "metadata": {},
   "outputs": [],
   "source": [
    "import pandas as pd\n",
    "import numpy as np\n",
    "import os\n",
    "from glob import glob\n",
    "from tqdm import tqdm\n",
    "import mysql.connector"
   ]
  },
  {
   "cell_type": "code",
   "execution_count": 32,
   "metadata": {},
   "outputs": [
    {
     "data": {
      "text/html": [
       "<div>\n",
       "<style scoped>\n",
       "    .dataframe tbody tr th:only-of-type {\n",
       "        vertical-align: middle;\n",
       "    }\n",
       "\n",
       "    .dataframe tbody tr th {\n",
       "        vertical-align: top;\n",
       "    }\n",
       "\n",
       "    .dataframe thead th {\n",
       "        text-align: right;\n",
       "    }\n",
       "</style>\n",
       "<table border=\"1\" class=\"dataframe\">\n",
       "  <thead>\n",
       "    <tr style=\"text-align: right;\">\n",
       "      <th></th>\n",
       "      <th>Year</th>\n",
       "      <th>Time_Zone</th>\n",
       "      <th>Mode</th>\n",
       "      <th>HDCD_SD_NM</th>\n",
       "      <th>HDCD_SGG_NM</th>\n",
       "      <th>HDCD_EMD_NM</th>\n",
       "      <th>Faci_NM</th>\n",
       "      <th>평균접근시간(분)</th>\n",
       "    </tr>\n",
       "  </thead>\n",
       "  <tbody>\n",
       "    <tr>\n",
       "      <th>109185</th>\n",
       "      <td>2016</td>\n",
       "      <td>00_AllDay</td>\n",
       "      <td>02_PT</td>\n",
       "      <td>경기도</td>\n",
       "      <td>양평군</td>\n",
       "      <td>개군면</td>\n",
       "      <td>광역교통-버스터미널</td>\n",
       "      <td>89.537256</td>\n",
       "    </tr>\n",
       "    <tr>\n",
       "      <th>109192</th>\n",
       "      <td>2016</td>\n",
       "      <td>00_AllDay</td>\n",
       "      <td>01_Car</td>\n",
       "      <td>경기도</td>\n",
       "      <td>양평군</td>\n",
       "      <td>개군면</td>\n",
       "      <td>광역교통-철도역</td>\n",
       "      <td>18.116527</td>\n",
       "    </tr>\n",
       "    <tr>\n",
       "      <th>109193</th>\n",
       "      <td>2016</td>\n",
       "      <td>00_AllDay</td>\n",
       "      <td>02_PT</td>\n",
       "      <td>경기도</td>\n",
       "      <td>양평군</td>\n",
       "      <td>개군면</td>\n",
       "      <td>광역교통-철도역</td>\n",
       "      <td>94.920071</td>\n",
       "    </tr>\n",
       "    <tr>\n",
       "      <th>109200</th>\n",
       "      <td>2016</td>\n",
       "      <td>00_AllDay</td>\n",
       "      <td>01_Car</td>\n",
       "      <td>경기도</td>\n",
       "      <td>양평군</td>\n",
       "      <td>개군면</td>\n",
       "      <td>광역교통-공항</td>\n",
       "      <td>119.603274</td>\n",
       "    </tr>\n",
       "    <tr>\n",
       "      <th>109201</th>\n",
       "      <td>2016</td>\n",
       "      <td>00_AllDay</td>\n",
       "      <td>02_PT</td>\n",
       "      <td>경기도</td>\n",
       "      <td>양평군</td>\n",
       "      <td>개군면</td>\n",
       "      <td>광역교통-공항</td>\n",
       "      <td>201.610483</td>\n",
       "    </tr>\n",
       "  </tbody>\n",
       "</table>\n",
       "</div>"
      ],
      "text/plain": [
       "        Year  Time_Zone    Mode HDCD_SD_NM HDCD_SGG_NM HDCD_EMD_NM  \\\n",
       "109185  2016  00_AllDay   02_PT        경기도         양평군         개군면   \n",
       "109192  2016  00_AllDay  01_Car        경기도         양평군         개군면   \n",
       "109193  2016  00_AllDay   02_PT        경기도         양평군         개군면   \n",
       "109200  2016  00_AllDay  01_Car        경기도         양평군         개군면   \n",
       "109201  2016  00_AllDay   02_PT        경기도         양평군         개군면   \n",
       "\n",
       "           Faci_NM   평균접근시간(분)  \n",
       "109185  광역교통-버스터미널   89.537256  \n",
       "109192    광역교통-철도역   18.116527  \n",
       "109193    광역교통-철도역   94.920071  \n",
       "109200     광역교통-공항  119.603274  \n",
       "109201     광역교통-공항  201.610483  "
      ]
     },
     "execution_count": 32,
     "metadata": {},
     "output_type": "execute_result"
    }
   ],
   "source": [
    "# 데이터 확인\n",
    "\n",
    "data = pd.read_excel(\"../data/transport_time_2016.xlsx\", sheet_name=1, usecols=(0, 5, 6, 7, 8, 9, 11, 14))\n",
    "data = data[data[\"Time_Zone\"] == \"00_AllDay\"]\n",
    "data.tail()"
   ]
  },
  {
   "cell_type": "code",
   "execution_count": 49,
   "metadata": {},
   "outputs": [
    {
     "ename": "KeyError",
     "evalue": "'Time_Zone'",
     "output_type": "error",
     "traceback": [
      "\u001b[0;31m---------------------------------------------------------------------------\u001b[0m",
      "\u001b[0;31mKeyError\u001b[0m                                  Traceback (most recent call last)",
      "File \u001b[0;32m~/venv/eda_venv/lib/python3.10/site-packages/pandas/core/indexes/base.py:3805\u001b[0m, in \u001b[0;36mIndex.get_loc\u001b[0;34m(self, key)\u001b[0m\n\u001b[1;32m   3804\u001b[0m \u001b[38;5;28;01mtry\u001b[39;00m:\n\u001b[0;32m-> 3805\u001b[0m     \u001b[38;5;28;01mreturn\u001b[39;00m \u001b[38;5;28;43mself\u001b[39;49m\u001b[38;5;241;43m.\u001b[39;49m\u001b[43m_engine\u001b[49m\u001b[38;5;241;43m.\u001b[39;49m\u001b[43mget_loc\u001b[49m\u001b[43m(\u001b[49m\u001b[43mcasted_key\u001b[49m\u001b[43m)\u001b[49m\n\u001b[1;32m   3806\u001b[0m \u001b[38;5;28;01mexcept\u001b[39;00m \u001b[38;5;167;01mKeyError\u001b[39;00m \u001b[38;5;28;01mas\u001b[39;00m err:\n",
      "File \u001b[0;32mindex.pyx:167\u001b[0m, in \u001b[0;36mpandas._libs.index.IndexEngine.get_loc\u001b[0;34m()\u001b[0m\n",
      "File \u001b[0;32mindex.pyx:196\u001b[0m, in \u001b[0;36mpandas._libs.index.IndexEngine.get_loc\u001b[0;34m()\u001b[0m\n",
      "File \u001b[0;32mpandas/_libs/hashtable_class_helper.pxi:7081\u001b[0m, in \u001b[0;36mpandas._libs.hashtable.PyObjectHashTable.get_item\u001b[0;34m()\u001b[0m\n",
      "File \u001b[0;32mpandas/_libs/hashtable_class_helper.pxi:7089\u001b[0m, in \u001b[0;36mpandas._libs.hashtable.PyObjectHashTable.get_item\u001b[0;34m()\u001b[0m\n",
      "\u001b[0;31mKeyError\u001b[0m: 'Time_Zone'",
      "\nThe above exception was the direct cause of the following exception:\n",
      "\u001b[0;31mKeyError\u001b[0m                                  Traceback (most recent call last)",
      "Cell \u001b[0;32mIn[49], line 1\u001b[0m\n\u001b[0;32m----> 1\u001b[0m data \u001b[38;5;241m=\u001b[39m data[\u001b[43mdata\u001b[49m\u001b[43m[\u001b[49m\u001b[38;5;124;43m\"\u001b[39;49m\u001b[38;5;124;43mTime_Zone\u001b[39;49m\u001b[38;5;124;43m\"\u001b[39;49m\u001b[43m]\u001b[49m \u001b[38;5;241m==\u001b[39m \u001b[38;5;124m\"\u001b[39m\u001b[38;5;124m00_AllDay\u001b[39m\u001b[38;5;124m\"\u001b[39m]\n\u001b[1;32m      2\u001b[0m data \u001b[38;5;241m=\u001b[39m data\u001b[38;5;241m.\u001b[39mdrop(columns\u001b[38;5;241m=\u001b[39m\u001b[38;5;124m\"\u001b[39m\u001b[38;5;124mTime_Zone\u001b[39m\u001b[38;5;124m\"\u001b[39m)\n\u001b[1;32m      3\u001b[0m \u001b[38;5;66;03m# data_PT = data[data[\"Mode\"].str.contains(mode)]\u001b[39;00m\n\u001b[1;32m      4\u001b[0m \u001b[38;5;66;03m# data = data_PT.drop(columns=[\"Time_Zone\", \"Mode\"])\u001b[39;00m\n\u001b[1;32m      5\u001b[0m \u001b[38;5;66;03m# mode = \"대중교통\"\u001b[39;00m\n\u001b[1;32m      6\u001b[0m \n\u001b[1;32m      7\u001b[0m \u001b[38;5;66;03m# type 내용 통합\u001b[39;00m\n",
      "File \u001b[0;32m~/venv/eda_venv/lib/python3.10/site-packages/pandas/core/frame.py:4102\u001b[0m, in \u001b[0;36mDataFrame.__getitem__\u001b[0;34m(self, key)\u001b[0m\n\u001b[1;32m   4100\u001b[0m \u001b[38;5;28;01mif\u001b[39;00m \u001b[38;5;28mself\u001b[39m\u001b[38;5;241m.\u001b[39mcolumns\u001b[38;5;241m.\u001b[39mnlevels \u001b[38;5;241m>\u001b[39m \u001b[38;5;241m1\u001b[39m:\n\u001b[1;32m   4101\u001b[0m     \u001b[38;5;28;01mreturn\u001b[39;00m \u001b[38;5;28mself\u001b[39m\u001b[38;5;241m.\u001b[39m_getitem_multilevel(key)\n\u001b[0;32m-> 4102\u001b[0m indexer \u001b[38;5;241m=\u001b[39m \u001b[38;5;28;43mself\u001b[39;49m\u001b[38;5;241;43m.\u001b[39;49m\u001b[43mcolumns\u001b[49m\u001b[38;5;241;43m.\u001b[39;49m\u001b[43mget_loc\u001b[49m\u001b[43m(\u001b[49m\u001b[43mkey\u001b[49m\u001b[43m)\u001b[49m\n\u001b[1;32m   4103\u001b[0m \u001b[38;5;28;01mif\u001b[39;00m is_integer(indexer):\n\u001b[1;32m   4104\u001b[0m     indexer \u001b[38;5;241m=\u001b[39m [indexer]\n",
      "File \u001b[0;32m~/venv/eda_venv/lib/python3.10/site-packages/pandas/core/indexes/base.py:3812\u001b[0m, in \u001b[0;36mIndex.get_loc\u001b[0;34m(self, key)\u001b[0m\n\u001b[1;32m   3807\u001b[0m     \u001b[38;5;28;01mif\u001b[39;00m \u001b[38;5;28misinstance\u001b[39m(casted_key, \u001b[38;5;28mslice\u001b[39m) \u001b[38;5;129;01mor\u001b[39;00m (\n\u001b[1;32m   3808\u001b[0m         \u001b[38;5;28misinstance\u001b[39m(casted_key, abc\u001b[38;5;241m.\u001b[39mIterable)\n\u001b[1;32m   3809\u001b[0m         \u001b[38;5;129;01mand\u001b[39;00m \u001b[38;5;28many\u001b[39m(\u001b[38;5;28misinstance\u001b[39m(x, \u001b[38;5;28mslice\u001b[39m) \u001b[38;5;28;01mfor\u001b[39;00m x \u001b[38;5;129;01min\u001b[39;00m casted_key)\n\u001b[1;32m   3810\u001b[0m     ):\n\u001b[1;32m   3811\u001b[0m         \u001b[38;5;28;01mraise\u001b[39;00m InvalidIndexError(key)\n\u001b[0;32m-> 3812\u001b[0m     \u001b[38;5;28;01mraise\u001b[39;00m \u001b[38;5;167;01mKeyError\u001b[39;00m(key) \u001b[38;5;28;01mfrom\u001b[39;00m \u001b[38;5;21;01merr\u001b[39;00m\n\u001b[1;32m   3813\u001b[0m \u001b[38;5;28;01mexcept\u001b[39;00m \u001b[38;5;167;01mTypeError\u001b[39;00m:\n\u001b[1;32m   3814\u001b[0m     \u001b[38;5;66;03m# If we have a listlike key, _check_indexing_error will raise\u001b[39;00m\n\u001b[1;32m   3815\u001b[0m     \u001b[38;5;66;03m#  InvalidIndexError. Otherwise we fall through and re-raise\u001b[39;00m\n\u001b[1;32m   3816\u001b[0m     \u001b[38;5;66;03m#  the TypeError.\u001b[39;00m\n\u001b[1;32m   3817\u001b[0m     \u001b[38;5;28mself\u001b[39m\u001b[38;5;241m.\u001b[39m_check_indexing_error(key)\n",
      "\u001b[0;31mKeyError\u001b[0m: 'Time_Zone'"
     ]
    }
   ],
   "source": [
    "data = data[data[\"Time_Zone\"] == \"00_AllDay\"]\n",
    "data = data.drop(columns=\"Time_Zone\")\n",
    "# data_PT = data[data[\"Mode\"].str.contains(mode)]\n",
    "# data = data_PT.drop(columns=[\"Time_Zone\", \"Mode\"])\n",
    "# mode = \"대중교통\"\n",
    "\n",
    "# type 내용 통합\n",
    "data = data.replace(to_replace = education_list, value= \"교육\")\n",
    "data = data.replace(to_replace = medical_list, value= \"의료\")\n",
    "data = data.replace(to_replace = commercial_list, value= \"판매\")\n",
    "data = data.replace(to_replace = transport_list, value= \"교통\")\n",
    "data = data.replace(to_replace= \"-\", value= \"전체\")\n",
    "\n",
    "# 칼럼 이름 변경\n",
    "data.columns = [\"YEAR\", \"Mode\", \"SIDO\", \"GUNGU\", \"DONG\", \"TYPE\", \"AVG_ACC_MINUTE\"]\n",
    "\n",
    "# 피봇테이블로 type 별 평균 구하기\n",
    "df = pd.pivot_table(data,\n",
    "                    index= [\"YEAR\", \"Mode\", \"SIDO\", \"GUNGU\", \"DONG\"],\n",
    "                    columns= [\"TYPE\"],\n",
    "                    values= \"AVG_ACC_MINUTE\")\n",
    "#df.reset_index(inplace=True)\n",
    "df.head()"
   ]
  },
  {
   "cell_type": "code",
   "execution_count": 50,
   "metadata": {},
   "outputs": [
    {
     "data": {
      "text/html": [
       "<div>\n",
       "<style scoped>\n",
       "    .dataframe tbody tr th:only-of-type {\n",
       "        vertical-align: middle;\n",
       "    }\n",
       "\n",
       "    .dataframe tbody tr th {\n",
       "        vertical-align: top;\n",
       "    }\n",
       "\n",
       "    .dataframe thead th {\n",
       "        text-align: right;\n",
       "    }\n",
       "</style>\n",
       "<table border=\"1\" class=\"dataframe\">\n",
       "  <thead>\n",
       "    <tr style=\"text-align: right;\">\n",
       "      <th></th>\n",
       "      <th></th>\n",
       "      <th></th>\n",
       "      <th></th>\n",
       "      <th>TYPE</th>\n",
       "      <th>교육</th>\n",
       "      <th>교통</th>\n",
       "      <th>의료</th>\n",
       "      <th>판매</th>\n",
       "    </tr>\n",
       "    <tr>\n",
       "      <th>YEAR</th>\n",
       "      <th>Mode</th>\n",
       "      <th>SIDO</th>\n",
       "      <th>GUNGU</th>\n",
       "      <th>DONG</th>\n",
       "      <th></th>\n",
       "      <th></th>\n",
       "      <th></th>\n",
       "      <th></th>\n",
       "    </tr>\n",
       "  </thead>\n",
       "  <tbody>\n",
       "    <tr>\n",
       "      <th rowspan=\"5\" valign=\"top\">2016</th>\n",
       "      <th rowspan=\"5\" valign=\"top\">02_PT</th>\n",
       "      <th rowspan=\"5\" valign=\"top\">인천광역시</th>\n",
       "      <th rowspan=\"5\" valign=\"top\">중구</th>\n",
       "      <th>영종동</th>\n",
       "      <td>15.925227</td>\n",
       "      <td>42.339191</td>\n",
       "      <td>25.296488</td>\n",
       "      <td>39.815661</td>\n",
       "    </tr>\n",
       "    <tr>\n",
       "      <th>용유동</th>\n",
       "      <td>25.732204</td>\n",
       "      <td>49.382155</td>\n",
       "      <td>36.174672</td>\n",
       "      <td>59.528563</td>\n",
       "    </tr>\n",
       "    <tr>\n",
       "      <th>운서동</th>\n",
       "      <td>6.115531</td>\n",
       "      <td>33.617458</td>\n",
       "      <td>24.278923</td>\n",
       "      <td>29.157598</td>\n",
       "    </tr>\n",
       "    <tr>\n",
       "      <th>율목동</th>\n",
       "      <td>4.701375</td>\n",
       "      <td>42.395652</td>\n",
       "      <td>5.918180</td>\n",
       "      <td>6.516764</td>\n",
       "    </tr>\n",
       "    <tr>\n",
       "      <th>전체</th>\n",
       "      <td>9.097366</td>\n",
       "      <td>42.266622</td>\n",
       "      <td>17.829295</td>\n",
       "      <td>23.830436</td>\n",
       "    </tr>\n",
       "  </tbody>\n",
       "</table>\n",
       "</div>"
      ],
      "text/plain": [
       "TYPE                                교육         교통         의료         판매\n",
       "YEAR Mode  SIDO  GUNGU DONG                                            \n",
       "2016 02_PT 인천광역시 중구    영종동   15.925227  42.339191  25.296488  39.815661\n",
       "                       용유동   25.732204  49.382155  36.174672  59.528563\n",
       "                       운서동    6.115531  33.617458  24.278923  29.157598\n",
       "                       율목동    4.701375  42.395652   5.918180   6.516764\n",
       "                       전체     9.097366  42.266622  17.829295  23.830436"
      ]
     },
     "execution_count": 50,
     "metadata": {},
     "output_type": "execute_result"
    }
   ],
   "source": [
    "df = pd.pivot_table(data,\n",
    "                    index= [\"YEAR\", \"Mode\", \"SIDO\", \"GUNGU\", \"DONG\"],\n",
    "                    columns= [\"TYPE\"],\n",
    "                    values= \"AVG_ACC_MINUTE\")\n",
    "df.tail()"
   ]
  },
  {
   "cell_type": "code",
   "execution_count": 56,
   "metadata": {},
   "outputs": [
    {
     "data": {
      "text/html": [
       "<div>\n",
       "<style scoped>\n",
       "    .dataframe tbody tr th:only-of-type {\n",
       "        vertical-align: middle;\n",
       "    }\n",
       "\n",
       "    .dataframe tbody tr th {\n",
       "        vertical-align: top;\n",
       "    }\n",
       "\n",
       "    .dataframe thead th {\n",
       "        text-align: right;\n",
       "    }\n",
       "</style>\n",
       "<table border=\"1\" class=\"dataframe\">\n",
       "  <thead>\n",
       "    <tr style=\"text-align: right;\">\n",
       "      <th></th>\n",
       "      <th></th>\n",
       "      <th></th>\n",
       "      <th></th>\n",
       "      <th>TYPE</th>\n",
       "      <th>교육</th>\n",
       "      <th>교통</th>\n",
       "      <th>의료</th>\n",
       "      <th>판매</th>\n",
       "    </tr>\n",
       "    <tr>\n",
       "      <th>YEAR</th>\n",
       "      <th>Mode</th>\n",
       "      <th>SIDO</th>\n",
       "      <th>GUNGU</th>\n",
       "      <th>DONG</th>\n",
       "      <th></th>\n",
       "      <th></th>\n",
       "      <th></th>\n",
       "      <th></th>\n",
       "    </tr>\n",
       "  </thead>\n",
       "  <tbody>\n",
       "    <tr>\n",
       "      <th rowspan=\"5\" valign=\"top\">2016</th>\n",
       "      <th rowspan=\"5\" valign=\"top\">01_Car</th>\n",
       "      <th rowspan=\"5\" valign=\"top\">경기도</th>\n",
       "      <th rowspan=\"5\" valign=\"top\">가평군</th>\n",
       "      <th>가평읍</th>\n",
       "      <td>4.786721</td>\n",
       "      <td>43.091057</td>\n",
       "      <td>26.732271</td>\n",
       "      <td>27.860993</td>\n",
       "    </tr>\n",
       "    <tr>\n",
       "      <th>북면</th>\n",
       "      <td>16.170148</td>\n",
       "      <td>66.827810</td>\n",
       "      <td>40.911471</td>\n",
       "      <td>50.782702</td>\n",
       "    </tr>\n",
       "    <tr>\n",
       "      <th>상면</th>\n",
       "      <td>11.685859</td>\n",
       "      <td>52.371382</td>\n",
       "      <td>25.201252</td>\n",
       "      <td>40.228015</td>\n",
       "    </tr>\n",
       "    <tr>\n",
       "      <th>설악면</th>\n",
       "      <td>5.168481</td>\n",
       "      <td>56.958842</td>\n",
       "      <td>21.736761</td>\n",
       "      <td>41.185691</td>\n",
       "    </tr>\n",
       "    <tr>\n",
       "      <th>전체</th>\n",
       "      <td>6.036235</td>\n",
       "      <td>48.424847</td>\n",
       "      <td>24.047643</td>\n",
       "      <td>34.291849</td>\n",
       "    </tr>\n",
       "  </tbody>\n",
       "</table>\n",
       "</div>"
      ],
      "text/plain": [
       "TYPE                                교육         교통         의료         판매\n",
       "YEAR Mode   SIDO GUNGU DONG                                            \n",
       "2016 01_Car 경기도  가평군   가평읍    4.786721  43.091057  26.732271  27.860993\n",
       "                       북면    16.170148  66.827810  40.911471  50.782702\n",
       "                       상면    11.685859  52.371382  25.201252  40.228015\n",
       "                       설악면    5.168481  56.958842  21.736761  41.185691\n",
       "                       전체     6.036235  48.424847  24.047643  34.291849"
      ]
     },
     "execution_count": 56,
     "metadata": {},
     "output_type": "execute_result"
    }
   ],
   "source": [
    "df.head()"
   ]
  },
  {
   "cell_type": "code",
   "execution_count": 57,
   "metadata": {},
   "outputs": [],
   "source": [
    "df.reset_index(inplace=True)"
   ]
  },
  {
   "cell_type": "code",
   "execution_count": 60,
   "metadata": {},
   "outputs": [
    {
     "data": {
      "text/html": [
       "<div>\n",
       "<style scoped>\n",
       "    .dataframe tbody tr th:only-of-type {\n",
       "        vertical-align: middle;\n",
       "    }\n",
       "\n",
       "    .dataframe tbody tr th {\n",
       "        vertical-align: top;\n",
       "    }\n",
       "\n",
       "    .dataframe thead th {\n",
       "        text-align: right;\n",
       "    }\n",
       "</style>\n",
       "<table border=\"1\" class=\"dataframe\">\n",
       "  <thead>\n",
       "    <tr style=\"text-align: right;\">\n",
       "      <th></th>\n",
       "      <th>YEAR</th>\n",
       "      <th>Mode</th>\n",
       "      <th>SIDO</th>\n",
       "      <th>GUNGU</th>\n",
       "      <th>DONG</th>\n",
       "      <th>TYPE</th>\n",
       "      <th>value</th>\n",
       "    </tr>\n",
       "  </thead>\n",
       "  <tbody>\n",
       "    <tr>\n",
       "      <th>0</th>\n",
       "      <td>2016</td>\n",
       "      <td>01_Car</td>\n",
       "      <td>경기도</td>\n",
       "      <td>가평군</td>\n",
       "      <td>가평읍</td>\n",
       "      <td>교육</td>\n",
       "      <td>4.786721</td>\n",
       "    </tr>\n",
       "    <tr>\n",
       "      <th>1</th>\n",
       "      <td>2016</td>\n",
       "      <td>01_Car</td>\n",
       "      <td>경기도</td>\n",
       "      <td>가평군</td>\n",
       "      <td>북면</td>\n",
       "      <td>교육</td>\n",
       "      <td>16.170148</td>\n",
       "    </tr>\n",
       "    <tr>\n",
       "      <th>2</th>\n",
       "      <td>2016</td>\n",
       "      <td>01_Car</td>\n",
       "      <td>경기도</td>\n",
       "      <td>가평군</td>\n",
       "      <td>상면</td>\n",
       "      <td>교육</td>\n",
       "      <td>11.685859</td>\n",
       "    </tr>\n",
       "    <tr>\n",
       "      <th>3</th>\n",
       "      <td>2016</td>\n",
       "      <td>01_Car</td>\n",
       "      <td>경기도</td>\n",
       "      <td>가평군</td>\n",
       "      <td>설악면</td>\n",
       "      <td>교육</td>\n",
       "      <td>5.168481</td>\n",
       "    </tr>\n",
       "    <tr>\n",
       "      <th>4</th>\n",
       "      <td>2016</td>\n",
       "      <td>01_Car</td>\n",
       "      <td>경기도</td>\n",
       "      <td>가평군</td>\n",
       "      <td>전체</td>\n",
       "      <td>교육</td>\n",
       "      <td>6.036235</td>\n",
       "    </tr>\n",
       "    <tr>\n",
       "      <th>...</th>\n",
       "      <td>...</td>\n",
       "      <td>...</td>\n",
       "      <td>...</td>\n",
       "      <td>...</td>\n",
       "      <td>...</td>\n",
       "      <td>...</td>\n",
       "      <td>...</td>\n",
       "    </tr>\n",
       "    <tr>\n",
       "      <th>9683</th>\n",
       "      <td>2016</td>\n",
       "      <td>02_PT</td>\n",
       "      <td>인천광역시</td>\n",
       "      <td>중구</td>\n",
       "      <td>영종동</td>\n",
       "      <td>판매</td>\n",
       "      <td>39.815661</td>\n",
       "    </tr>\n",
       "    <tr>\n",
       "      <th>9684</th>\n",
       "      <td>2016</td>\n",
       "      <td>02_PT</td>\n",
       "      <td>인천광역시</td>\n",
       "      <td>중구</td>\n",
       "      <td>용유동</td>\n",
       "      <td>판매</td>\n",
       "      <td>59.528563</td>\n",
       "    </tr>\n",
       "    <tr>\n",
       "      <th>9685</th>\n",
       "      <td>2016</td>\n",
       "      <td>02_PT</td>\n",
       "      <td>인천광역시</td>\n",
       "      <td>중구</td>\n",
       "      <td>운서동</td>\n",
       "      <td>판매</td>\n",
       "      <td>29.157598</td>\n",
       "    </tr>\n",
       "    <tr>\n",
       "      <th>9686</th>\n",
       "      <td>2016</td>\n",
       "      <td>02_PT</td>\n",
       "      <td>인천광역시</td>\n",
       "      <td>중구</td>\n",
       "      <td>율목동</td>\n",
       "      <td>판매</td>\n",
       "      <td>6.516764</td>\n",
       "    </tr>\n",
       "    <tr>\n",
       "      <th>9687</th>\n",
       "      <td>2016</td>\n",
       "      <td>02_PT</td>\n",
       "      <td>인천광역시</td>\n",
       "      <td>중구</td>\n",
       "      <td>전체</td>\n",
       "      <td>판매</td>\n",
       "      <td>23.830436</td>\n",
       "    </tr>\n",
       "  </tbody>\n",
       "</table>\n",
       "<p>9688 rows × 7 columns</p>\n",
       "</div>"
      ],
      "text/plain": [
       "      YEAR    Mode   SIDO GUNGU DONG TYPE      value\n",
       "0     2016  01_Car    경기도   가평군  가평읍   교육   4.786721\n",
       "1     2016  01_Car    경기도   가평군   북면   교육  16.170148\n",
       "2     2016  01_Car    경기도   가평군   상면   교육  11.685859\n",
       "3     2016  01_Car    경기도   가평군  설악면   교육   5.168481\n",
       "4     2016  01_Car    경기도   가평군   전체   교육   6.036235\n",
       "...    ...     ...    ...   ...  ...  ...        ...\n",
       "9683  2016   02_PT  인천광역시    중구  영종동   판매  39.815661\n",
       "9684  2016   02_PT  인천광역시    중구  용유동   판매  59.528563\n",
       "9685  2016   02_PT  인천광역시    중구  운서동   판매  29.157598\n",
       "9686  2016   02_PT  인천광역시    중구  율목동   판매   6.516764\n",
       "9687  2016   02_PT  인천광역시    중구   전체   판매  23.830436\n",
       "\n",
       "[9688 rows x 7 columns]"
      ]
     },
     "execution_count": 60,
     "metadata": {},
     "output_type": "execute_result"
    }
   ],
   "source": [
    "pivot = df.melt(id_vars=[\"YEAR\", \"Mode\", \"SIDO\", \"GUNGU\", \"DONG\"])\n",
    "pivot"
   ]
  },
  {
   "cell_type": "code",
   "execution_count": 61,
   "metadata": {},
   "outputs": [],
   "source": [
    "pivot = pivot.replace(to_replace= \"01_Car\", value= \"자가용\")\n",
    "pivot = pivot.replace(to_replace= \"01_PT\", value= \"대중교통\")"
   ]
  },
  {
   "cell_type": "code",
   "execution_count": 63,
   "metadata": {},
   "outputs": [],
   "source": [
    "# 쿼리\n",
    "\n",
    "sql = \"INSERT INTO TRANSPORTATION_ACCESSIBILITY \\\n",
    "    (YEAR, MODE, SIDO, GUNGU, DONG, CATEGORY, AVG_MINUTE) \\\n",
    "        VALUES (%s, %s, %s, %s, %s, %s, %s)\""
   ]
  },
  {
   "cell_type": "code",
   "execution_count": 65,
   "metadata": {},
   "outputs": [
    {
     "name": "stderr",
     "output_type": "stream",
     "text": [
      "100%|██████████| 9688/9688 [03:12<00:00, 50.32it/s]\n"
     ]
    }
   ],
   "source": [
    "for i, row in tqdm(pivot.iterrows(), total= pivot.shape[0]):\n",
    "    cur.execute(sql, tuple(row))\n",
    "#    print(tuple(row))\n",
    "    remote.commit()"
   ]
  },
  {
   "cell_type": "code",
   "execution_count": 53,
   "metadata": {},
   "outputs": [
    {
     "data": {
      "text/plain": [
       "YEAR  Mode    SIDO   GUNGU  DONG  TYPE\n",
       "2016  01_Car  경기도    가평군    가평읍   교육       4.786721\n",
       "                                  교통      43.091057\n",
       "                                  의료      26.732271\n",
       "                                  판매      27.860993\n",
       "                            북면    교육      16.170148\n",
       "                                            ...    \n",
       "      02_PT   인천광역시  중구     율목동   판매       6.516764\n",
       "                            전체    교육       9.097366\n",
       "                                  교통      42.266622\n",
       "                                  의료      17.829295\n",
       "                                  판매      23.830436\n",
       "Length: 9688, dtype: float64"
      ]
     },
     "execution_count": 53,
     "metadata": {},
     "output_type": "execute_result"
    }
   ],
   "source": [
    "df.stack()"
   ]
  },
  {
   "cell_type": "code",
   "execution_count": 6,
   "metadata": {},
   "outputs": [
    {
     "name": "stdout",
     "output_type": "stream",
     "text": [
      "7\n"
     ]
    },
    {
     "data": {
      "text/plain": [
       "['../data/transport_time_2020.xlsx',\n",
       " '../data/transport_time_2019.xlsx',\n",
       " '../data/transport',\n",
       " '../data/transport_time_2016.xlsx',\n",
       " '../data/transport_time_2017.xlsx',\n",
       " '../data/transport_time_2018.xlsx',\n",
       " '../data/transport_time_2021.xlsx']"
      ]
     },
     "execution_count": 6,
     "metadata": {},
     "output_type": "execute_result"
    }
   ],
   "source": [
    "# 연도별 파일 전부 불러오기\n",
    "\n",
    "file_list = glob(\"../data/transport*\")\n",
    "print(len(file_list))\n",
    "file_list"
   ]
  },
  {
   "cell_type": "code",
   "execution_count": 12,
   "metadata": {},
   "outputs": [
    {
     "data": {
      "text/plain": [
       "'../data/transport'"
      ]
     },
     "execution_count": 12,
     "metadata": {},
     "output_type": "execute_result"
    }
   ],
   "source": [
    "file_list.pop(2)"
   ]
  },
  {
   "cell_type": "code",
   "execution_count": 21,
   "metadata": {},
   "outputs": [
    {
     "data": {
      "text/plain": [
       "'../data/transport_time_2016.xlsx'"
      ]
     },
     "execution_count": 21,
     "metadata": {},
     "output_type": "execute_result"
    }
   ],
   "source": [
    "file_list.pop(2)"
   ]
  },
  {
   "cell_type": "code",
   "execution_count": 24,
   "metadata": {},
   "outputs": [
    {
     "data": {
      "text/plain": [
       "['../data/transport_time_2020.xlsx',\n",
       " '../data/transport_time_2019.xlsx',\n",
       " '../data/transport_time_2017.xlsx',\n",
       " '../data/transport_time_2018.xlsx',\n",
       " '../data/transport_time_2021.xlsx']"
      ]
     },
     "execution_count": 24,
     "metadata": {},
     "output_type": "execute_result"
    }
   ],
   "source": [
    "file_list"
   ]
  },
  {
   "cell_type": "code",
   "execution_count": 23,
   "metadata": {},
   "outputs": [
    {
     "data": {
      "text/html": [
       "<div>\n",
       "<style scoped>\n",
       "    .dataframe tbody tr th:only-of-type {\n",
       "        vertical-align: middle;\n",
       "    }\n",
       "\n",
       "    .dataframe tbody tr th {\n",
       "        vertical-align: top;\n",
       "    }\n",
       "\n",
       "    .dataframe thead th {\n",
       "        text-align: right;\n",
       "    }\n",
       "</style>\n",
       "<table border=\"1\" class=\"dataframe\">\n",
       "  <thead>\n",
       "    <tr style=\"text-align: right;\">\n",
       "      <th></th>\n",
       "      <th>Year</th>\n",
       "      <th>Time_Zone</th>\n",
       "      <th>Mode</th>\n",
       "      <th>HDCD_SD_NM</th>\n",
       "      <th>HDCD_SGG_NM</th>\n",
       "      <th>HDCD_EMD_NM</th>\n",
       "      <th>Faci_CA</th>\n",
       "      <th>Mode_NM</th>\n",
       "    </tr>\n",
       "  </thead>\n",
       "  <tbody>\n",
       "    <tr>\n",
       "      <th>348211</th>\n",
       "      <td>2018</td>\n",
       "      <td>1_T0709</td>\n",
       "      <td>2_PT</td>\n",
       "      <td>제주특별자치도</td>\n",
       "      <td>서귀포시</td>\n",
       "      <td>예래동</td>\n",
       "      <td>광역교통시설</td>\n",
       "      <td>대중교통/도보</td>\n",
       "    </tr>\n",
       "    <tr>\n",
       "      <th>348212</th>\n",
       "      <td>2018</td>\n",
       "      <td>2_T1214</td>\n",
       "      <td>1_PC</td>\n",
       "      <td>제주특별자치도</td>\n",
       "      <td>서귀포시</td>\n",
       "      <td>예래동</td>\n",
       "      <td>광역교통시설</td>\n",
       "      <td>승용차</td>\n",
       "    </tr>\n",
       "    <tr>\n",
       "      <th>348213</th>\n",
       "      <td>2018</td>\n",
       "      <td>2_T1214</td>\n",
       "      <td>2_PT</td>\n",
       "      <td>제주특별자치도</td>\n",
       "      <td>서귀포시</td>\n",
       "      <td>예래동</td>\n",
       "      <td>광역교통시설</td>\n",
       "      <td>대중교통/도보</td>\n",
       "    </tr>\n",
       "    <tr>\n",
       "      <th>348214</th>\n",
       "      <td>2018</td>\n",
       "      <td>3_T1820</td>\n",
       "      <td>1_PC</td>\n",
       "      <td>제주특별자치도</td>\n",
       "      <td>서귀포시</td>\n",
       "      <td>예래동</td>\n",
       "      <td>광역교통시설</td>\n",
       "      <td>승용차</td>\n",
       "    </tr>\n",
       "    <tr>\n",
       "      <th>348215</th>\n",
       "      <td>2018</td>\n",
       "      <td>3_T1820</td>\n",
       "      <td>2_PT</td>\n",
       "      <td>제주특별자치도</td>\n",
       "      <td>서귀포시</td>\n",
       "      <td>예래동</td>\n",
       "      <td>광역교통시설</td>\n",
       "      <td>대중교통/도보</td>\n",
       "    </tr>\n",
       "  </tbody>\n",
       "</table>\n",
       "</div>"
      ],
      "text/plain": [
       "        Year Time_Zone  Mode HDCD_SD_NM HDCD_SGG_NM HDCD_EMD_NM Faci_CA  \\\n",
       "348211  2018   1_T0709  2_PT    제주특별자치도        서귀포시         예래동  광역교통시설   \n",
       "348212  2018   2_T1214  1_PC    제주특별자치도        서귀포시         예래동  광역교통시설   \n",
       "348213  2018   2_T1214  2_PT    제주특별자치도        서귀포시         예래동  광역교통시설   \n",
       "348214  2018   3_T1820  1_PC    제주특별자치도        서귀포시         예래동  광역교통시설   \n",
       "348215  2018   3_T1820  2_PT    제주특별자치도        서귀포시         예래동  광역교통시설   \n",
       "\n",
       "        Mode_NM  \n",
       "348211  대중교통/도보  \n",
       "348212      승용차  \n",
       "348213  대중교통/도보  \n",
       "348214      승용차  \n",
       "348215  대중교통/도보  "
      ]
     },
     "execution_count": 23,
     "metadata": {},
     "output_type": "execute_result"
    }
   ],
   "source": [
    "data = pd.read_excel(file_list[3], usecols=(0, 5, 6, 7, 8, 9, 11, 14), header=4)\n",
    "data.tail()"
   ]
  },
  {
   "cell_type": "markdown",
   "metadata": {},
   "source": [
    "# DB 연결"
   ]
  },
  {
   "cell_type": "code",
   "execution_count": 66,
   "metadata": {},
   "outputs": [],
   "source": [
    "# 쿼리\n",
    "\n",
    "sql = \"INSERT INTO TRANSPORTATION_ACCESSIBILITY \\\n",
    "    (YEAR, MODE, SIDO, GUNGU, DONG, CATEGORY, AVG_MINUTE) \\\n",
    "        VALUES (%s, %s, %s, %s, %s, %s, %s)\""
   ]
  },
  {
   "cell_type": "code",
   "execution_count": 9,
   "metadata": {},
   "outputs": [],
   "source": [
    "education_list = ['교육-초등학교', '교육-중학교', '교육-고등학교']\n",
    "medical_list = ['의료-공공의료시설', '의료-병·의원', '의료-종합병원']\n",
    "commercial_list = ['판매-대규모점포', '판매-전통시장',]\n",
    "transport_list = ['광역교통-버스터미널', '광역교통-철도역', '광역교통-공항']"
   ]
  },
  {
   "cell_type": "code",
   "execution_count": 92,
   "metadata": {},
   "outputs": [],
   "source": [
    "def change_mode(data):\n",
    "    data = data.replace(to_replace= \"1_PC\", value= \"자가용\")\n",
    "    data = data.replace(to_replace= \"2_PT\", value= \"대중교통\")\n",
    "    return data\n",
    "\n",
    "def merge_type(data):\n",
    "    data = data.replace(to_replace = education_list, value= \"교육\")\n",
    "    data = data.replace(to_replace = medical_list, value= \"의료\")\n",
    "    data = data.replace(to_replace = commercial_list, value= \"판매\")\n",
    "    data = data.replace(to_replace = transport_list, value= \"교통\")\n",
    "    return data\n",
    "\n",
    "def rename_column(data):\n",
    "    data.columns = [\"YEAR\", \"SIDO\", \"GUNGU\", \"DONG\", \"TYPE\", \"AVG_ACC_MINUTE\"] \n",
    "    return data   \n",
    "\n",
    "def casting_time(data):\n",
    "    data[\"AVG_ACC_MINUTE\"].replace(\">120\", 120.00, inplace=True)\n",
    "    data[\"AVG_ACC_MINUTE\"].replace(\">120.00\", 120.00, inplace=True)\n",
    "    data[\"AVG_ACC_MINUTE\"].astype(float)\n",
    "    return data"
   ]
  },
  {
   "cell_type": "code",
   "execution_count": 98,
   "metadata": {},
   "outputs": [
    {
     "name": "stderr",
     "output_type": "stream",
     "text": [
      "/tmp/ipykernel_135662/3920219560.py:18: FutureWarning: A value is trying to be set on a copy of a DataFrame or Series through chained assignment using an inplace method.\n",
      "The behavior will change in pandas 3.0. This inplace method will never work because the intermediate object on which we are setting values always behaves as a copy.\n",
      "\n",
      "For example, when doing 'df[col].method(value, inplace=True)', try using 'df.method({col: value}, inplace=True)' or df[col] = df[col].method(value) instead, to perform the operation inplace on the original object.\n",
      "\n",
      "\n",
      "  data[\"AVG_ACC_MINUTE\"].replace(\">120\", 120.00, inplace=True)\n",
      "/tmp/ipykernel_135662/3920219560.py:19: FutureWarning: A value is trying to be set on a copy of a DataFrame or Series through chained assignment using an inplace method.\n",
      "The behavior will change in pandas 3.0. This inplace method will never work because the intermediate object on which we are setting values always behaves as a copy.\n",
      "\n",
      "For example, when doing 'df[col].method(value, inplace=True)', try using 'df.method({col: value}, inplace=True)' or df[col] = df[col].method(value) instead, to perform the operation inplace on the original object.\n",
      "\n",
      "\n",
      "  data[\"AVG_ACC_MINUTE\"].replace(\">120.00\", 120.00, inplace=True)\n",
      "/tmp/ipykernel_135662/3920219560.py:19: FutureWarning: Downcasting behavior in `replace` is deprecated and will be removed in a future version. To retain the old behavior, explicitly call `result.infer_objects(copy=False)`. To opt-in to the future behavior, set `pd.set_option('future.no_silent_downcasting', True)`\n",
      "  data[\"AVG_ACC_MINUTE\"].replace(\">120.00\", 120.00, inplace=True)\n",
      "100%|██████████| 30240/30240 [10:41<00:00, 47.16it/s]\n"
     ]
    },
    {
     "name": "stdout",
     "output_type": "stream",
     "text": [
      "../data/transport_time_2020.xlsx 끝!!!!!\n"
     ]
    },
    {
     "name": "stderr",
     "output_type": "stream",
     "text": [
      "/tmp/ipykernel_135662/3920219560.py:18: FutureWarning: A value is trying to be set on a copy of a DataFrame or Series through chained assignment using an inplace method.\n",
      "The behavior will change in pandas 3.0. This inplace method will never work because the intermediate object on which we are setting values always behaves as a copy.\n",
      "\n",
      "For example, when doing 'df[col].method(value, inplace=True)', try using 'df.method({col: value}, inplace=True)' or df[col] = df[col].method(value) instead, to perform the operation inplace on the original object.\n",
      "\n",
      "\n",
      "  data[\"AVG_ACC_MINUTE\"].replace(\">120\", 120.00, inplace=True)\n",
      "/tmp/ipykernel_135662/3920219560.py:19: FutureWarning: A value is trying to be set on a copy of a DataFrame or Series through chained assignment using an inplace method.\n",
      "The behavior will change in pandas 3.0. This inplace method will never work because the intermediate object on which we are setting values always behaves as a copy.\n",
      "\n",
      "For example, when doing 'df[col].method(value, inplace=True)', try using 'df.method({col: value}, inplace=True)' or df[col] = df[col].method(value) instead, to perform the operation inplace on the original object.\n",
      "\n",
      "\n",
      "  data[\"AVG_ACC_MINUTE\"].replace(\">120.00\", 120.00, inplace=True)\n",
      "/tmp/ipykernel_135662/3920219560.py:19: FutureWarning: Downcasting behavior in `replace` is deprecated and will be removed in a future version. To retain the old behavior, explicitly call `result.infer_objects(copy=False)`. To opt-in to the future behavior, set `pd.set_option('future.no_silent_downcasting', True)`\n",
      "  data[\"AVG_ACC_MINUTE\"].replace(\">120.00\", 120.00, inplace=True)\n",
      "100%|██████████| 30160/30160 [10:30<00:00, 47.86it/s]\n"
     ]
    },
    {
     "name": "stdout",
     "output_type": "stream",
     "text": [
      "../data/transport_time_2019.xlsx 끝!!!!!\n"
     ]
    },
    {
     "name": "stderr",
     "output_type": "stream",
     "text": [
      "/tmp/ipykernel_135662/3920219560.py:18: FutureWarning: A value is trying to be set on a copy of a DataFrame or Series through chained assignment using an inplace method.\n",
      "The behavior will change in pandas 3.0. This inplace method will never work because the intermediate object on which we are setting values always behaves as a copy.\n",
      "\n",
      "For example, when doing 'df[col].method(value, inplace=True)', try using 'df.method({col: value}, inplace=True)' or df[col] = df[col].method(value) instead, to perform the operation inplace on the original object.\n",
      "\n",
      "\n",
      "  data[\"AVG_ACC_MINUTE\"].replace(\">120\", 120.00, inplace=True)\n",
      "/tmp/ipykernel_135662/3920219560.py:19: FutureWarning: A value is trying to be set on a copy of a DataFrame or Series through chained assignment using an inplace method.\n",
      "The behavior will change in pandas 3.0. This inplace method will never work because the intermediate object on which we are setting values always behaves as a copy.\n",
      "\n",
      "For example, when doing 'df[col].method(value, inplace=True)', try using 'df.method({col: value}, inplace=True)' or df[col] = df[col].method(value) instead, to perform the operation inplace on the original object.\n",
      "\n",
      "\n",
      "  data[\"AVG_ACC_MINUTE\"].replace(\">120.00\", 120.00, inplace=True)\n",
      "/tmp/ipykernel_135662/3920219560.py:19: FutureWarning: Downcasting behavior in `replace` is deprecated and will be removed in a future version. To retain the old behavior, explicitly call `result.infer_objects(copy=False)`. To opt-in to the future behavior, set `pd.set_option('future.no_silent_downcasting', True)`\n",
      "  data[\"AVG_ACC_MINUTE\"].replace(\">120.00\", 120.00, inplace=True)\n",
      "100%|██████████| 30312/30312 [10:27<00:00, 48.34it/s]\n"
     ]
    },
    {
     "name": "stdout",
     "output_type": "stream",
     "text": [
      "../data/transport_time_2018.xlsx 끝!!!!!\n"
     ]
    },
    {
     "ename": "KeyError",
     "evalue": "'Time_Zone'",
     "output_type": "error",
     "traceback": [
      "\u001b[0;31m---------------------------------------------------------------------------\u001b[0m",
      "\u001b[0;31mKeyError\u001b[0m                                  Traceback (most recent call last)",
      "File \u001b[0;32m~/venv/eda_venv/lib/python3.10/site-packages/pandas/core/indexes/base.py:3805\u001b[0m, in \u001b[0;36mIndex.get_loc\u001b[0;34m(self, key)\u001b[0m\n\u001b[1;32m   3804\u001b[0m \u001b[38;5;28;01mtry\u001b[39;00m:\n\u001b[0;32m-> 3805\u001b[0m     \u001b[38;5;28;01mreturn\u001b[39;00m \u001b[38;5;28;43mself\u001b[39;49m\u001b[38;5;241;43m.\u001b[39;49m\u001b[43m_engine\u001b[49m\u001b[38;5;241;43m.\u001b[39;49m\u001b[43mget_loc\u001b[49m\u001b[43m(\u001b[49m\u001b[43mcasted_key\u001b[49m\u001b[43m)\u001b[49m\n\u001b[1;32m   3806\u001b[0m \u001b[38;5;28;01mexcept\u001b[39;00m \u001b[38;5;167;01mKeyError\u001b[39;00m \u001b[38;5;28;01mas\u001b[39;00m err:\n",
      "File \u001b[0;32mindex.pyx:167\u001b[0m, in \u001b[0;36mpandas._libs.index.IndexEngine.get_loc\u001b[0;34m()\u001b[0m\n",
      "File \u001b[0;32mindex.pyx:196\u001b[0m, in \u001b[0;36mpandas._libs.index.IndexEngine.get_loc\u001b[0;34m()\u001b[0m\n",
      "File \u001b[0;32mpandas/_libs/hashtable_class_helper.pxi:7081\u001b[0m, in \u001b[0;36mpandas._libs.hashtable.PyObjectHashTable.get_item\u001b[0;34m()\u001b[0m\n",
      "File \u001b[0;32mpandas/_libs/hashtable_class_helper.pxi:7089\u001b[0m, in \u001b[0;36mpandas._libs.hashtable.PyObjectHashTable.get_item\u001b[0;34m()\u001b[0m\n",
      "\u001b[0;31mKeyError\u001b[0m: 'Time_Zone'",
      "\nThe above exception was the direct cause of the following exception:\n",
      "\u001b[0;31mKeyError\u001b[0m                                  Traceback (most recent call last)",
      "Cell \u001b[0;32mIn[98], line 5\u001b[0m\n\u001b[1;32m      3\u001b[0m     data \u001b[38;5;241m=\u001b[39m pd\u001b[38;5;241m.\u001b[39mread_excel(file, usecols\u001b[38;5;241m=\u001b[39m(\u001b[38;5;241m0\u001b[39m, \u001b[38;5;241m5\u001b[39m, \u001b[38;5;241m6\u001b[39m, \u001b[38;5;241m7\u001b[39m, \u001b[38;5;241m8\u001b[39m, \u001b[38;5;241m9\u001b[39m, \u001b[38;5;241m11\u001b[39m, \u001b[38;5;241m15\u001b[39m), header\u001b[38;5;241m=\u001b[39m\u001b[38;5;241m4\u001b[39m)\u001b[38;5;241m.\u001b[39mfillna(\u001b[38;5;241m0\u001b[39m)\n\u001b[1;32m      4\u001b[0m \u001b[38;5;66;03m#    data = data[data[\"Time_Zone\"] == \"00_AllDay\"]\u001b[39;00m\n\u001b[0;32m----> 5\u001b[0m     data \u001b[38;5;241m=\u001b[39m data[\u001b[43mdata\u001b[49m\u001b[43m[\u001b[49m\u001b[38;5;124;43m\"\u001b[39;49m\u001b[38;5;124;43mTime_Zone\u001b[39;49m\u001b[38;5;124;43m\"\u001b[39;49m\u001b[43m]\u001b[49m \u001b[38;5;241m==\u001b[39m \u001b[38;5;124m\"\u001b[39m\u001b[38;5;124m0_AllDay\u001b[39m\u001b[38;5;124m\"\u001b[39m]\n\u001b[1;32m      6\u001b[0m     data \u001b[38;5;241m=\u001b[39m data\u001b[38;5;241m.\u001b[39mdrop(columns\u001b[38;5;241m=\u001b[39m\u001b[38;5;124m\"\u001b[39m\u001b[38;5;124mTime_Zone\u001b[39m\u001b[38;5;124m\"\u001b[39m)\n\u001b[1;32m      8\u001b[0m \u001b[38;5;66;03m# mode 값 변경\u001b[39;00m\n",
      "File \u001b[0;32m~/venv/eda_venv/lib/python3.10/site-packages/pandas/core/frame.py:4102\u001b[0m, in \u001b[0;36mDataFrame.__getitem__\u001b[0;34m(self, key)\u001b[0m\n\u001b[1;32m   4100\u001b[0m \u001b[38;5;28;01mif\u001b[39;00m \u001b[38;5;28mself\u001b[39m\u001b[38;5;241m.\u001b[39mcolumns\u001b[38;5;241m.\u001b[39mnlevels \u001b[38;5;241m>\u001b[39m \u001b[38;5;241m1\u001b[39m:\n\u001b[1;32m   4101\u001b[0m     \u001b[38;5;28;01mreturn\u001b[39;00m \u001b[38;5;28mself\u001b[39m\u001b[38;5;241m.\u001b[39m_getitem_multilevel(key)\n\u001b[0;32m-> 4102\u001b[0m indexer \u001b[38;5;241m=\u001b[39m \u001b[38;5;28;43mself\u001b[39;49m\u001b[38;5;241;43m.\u001b[39;49m\u001b[43mcolumns\u001b[49m\u001b[38;5;241;43m.\u001b[39;49m\u001b[43mget_loc\u001b[49m\u001b[43m(\u001b[49m\u001b[43mkey\u001b[49m\u001b[43m)\u001b[49m\n\u001b[1;32m   4103\u001b[0m \u001b[38;5;28;01mif\u001b[39;00m is_integer(indexer):\n\u001b[1;32m   4104\u001b[0m     indexer \u001b[38;5;241m=\u001b[39m [indexer]\n",
      "File \u001b[0;32m~/venv/eda_venv/lib/python3.10/site-packages/pandas/core/indexes/base.py:3812\u001b[0m, in \u001b[0;36mIndex.get_loc\u001b[0;34m(self, key)\u001b[0m\n\u001b[1;32m   3807\u001b[0m     \u001b[38;5;28;01mif\u001b[39;00m \u001b[38;5;28misinstance\u001b[39m(casted_key, \u001b[38;5;28mslice\u001b[39m) \u001b[38;5;129;01mor\u001b[39;00m (\n\u001b[1;32m   3808\u001b[0m         \u001b[38;5;28misinstance\u001b[39m(casted_key, abc\u001b[38;5;241m.\u001b[39mIterable)\n\u001b[1;32m   3809\u001b[0m         \u001b[38;5;129;01mand\u001b[39;00m \u001b[38;5;28many\u001b[39m(\u001b[38;5;28misinstance\u001b[39m(x, \u001b[38;5;28mslice\u001b[39m) \u001b[38;5;28;01mfor\u001b[39;00m x \u001b[38;5;129;01min\u001b[39;00m casted_key)\n\u001b[1;32m   3810\u001b[0m     ):\n\u001b[1;32m   3811\u001b[0m         \u001b[38;5;28;01mraise\u001b[39;00m InvalidIndexError(key)\n\u001b[0;32m-> 3812\u001b[0m     \u001b[38;5;28;01mraise\u001b[39;00m \u001b[38;5;167;01mKeyError\u001b[39;00m(key) \u001b[38;5;28;01mfrom\u001b[39;00m \u001b[38;5;21;01merr\u001b[39;00m\n\u001b[1;32m   3813\u001b[0m \u001b[38;5;28;01mexcept\u001b[39;00m \u001b[38;5;167;01mTypeError\u001b[39;00m:\n\u001b[1;32m   3814\u001b[0m     \u001b[38;5;66;03m# If we have a listlike key, _check_indexing_error will raise\u001b[39;00m\n\u001b[1;32m   3815\u001b[0m     \u001b[38;5;66;03m#  InvalidIndexError. Otherwise we fall through and re-raise\u001b[39;00m\n\u001b[1;32m   3816\u001b[0m     \u001b[38;5;66;03m#  the TypeError.\u001b[39;00m\n\u001b[1;32m   3817\u001b[0m     \u001b[38;5;28mself\u001b[39m\u001b[38;5;241m.\u001b[39m_check_indexing_error(key)\n",
      "\u001b[0;31mKeyError\u001b[0m: 'Time_Zone'"
     ]
    }
   ],
   "source": [
    "for file in file_list:\n",
    "# 파일 불러오기 - 일 평균값, 대중교통만 사용\n",
    "    data = pd.read_excel(file, usecols=(0, 5, 6, 7, 8, 9, 11, 15), header=4).fillna(0)\n",
    "#    data = data[data[\"Time_Zone\"] == \"00_AllDay\"]\n",
    "    data = data[data[\"Time_Zone\"] == \"0_AllDay\"]\n",
    "    data = data.drop(columns=\"Time_Zone\")\n",
    "\n",
    "# mode 값 변경\n",
    "    data = change_mode(data)\n",
    "\n",
    "# 칼럼 이름 변경\n",
    "    data.columns = [\"YEAR\", \"MODE\", \"SIDO\", \"GUNGU\", \"DONG\", \"TYPE\", \"AVG_ACC_MINUTE\"]\n",
    "\n",
    "# 120분 이상 값 숫자형식으로 변경\n",
    "    data = casting_time(data)\n",
    "\n",
    "# 피봇테이블로 type 별 평균 구하기\n",
    "    df = pd.pivot_table(data,\n",
    "                        index= [\"YEAR\", \"MODE\", \"SIDO\", \"GUNGU\", \"DONG\"],\n",
    "                        columns= [\"TYPE\"],\n",
    "                        values= \"AVG_ACC_MINUTE\")\n",
    "    df.reset_index(inplace=True)\n",
    "    df_melt = df.melt(id_vars=[\"YEAR\", \"MODE\", \"SIDO\", \"GUNGU\", \"DONG\"])\n",
    "    df_melt\n",
    "    \n",
    "    for i, row in tqdm(df_melt.iterrows(), total= df_melt.shape[0]):\n",
    "        cur.execute(sql, tuple(row))\n",
    "        remote.commit()\n",
    "\n",
    "    print(file, \"끝!!!!!\")"
   ]
  },
  {
   "cell_type": "code",
   "execution_count": 95,
   "metadata": {},
   "outputs": [
    {
     "data": {
      "text/plain": [
       "'../data/transport_time_2019.xlsx'"
      ]
     },
     "execution_count": 95,
     "metadata": {},
     "output_type": "execute_result"
    }
   ],
   "source": [
    "file_list[1]"
   ]
  },
  {
   "cell_type": "code",
   "execution_count": 96,
   "metadata": {},
   "outputs": [
    {
     "data": {
      "text/plain": [
       "['../data/transport_time_2020.xlsx',\n",
       " '../data/transport_time_2019.xlsx',\n",
       " '../data/transport_time_2017.xlsx',\n",
       " '../data/transport_time_2018.xlsx',\n",
       " '../data/transport_time_2021.xlsx']"
      ]
     },
     "execution_count": 96,
     "metadata": {},
     "output_type": "execute_result"
    }
   ],
   "source": [
    "file_list"
   ]
  },
  {
   "cell_type": "code",
   "execution_count": 97,
   "metadata": {},
   "outputs": [
    {
     "data": {
      "text/plain": [
       "'../data/transport_time_2017.xlsx'"
      ]
     },
     "execution_count": 97,
     "metadata": {},
     "output_type": "execute_result"
    }
   ],
   "source": [
    "file_list.pop(2)"
   ]
  },
  {
   "cell_type": "code",
   "execution_count": 81,
   "metadata": {},
   "outputs": [
    {
     "name": "stdout",
     "output_type": "stream",
     "text": [
      "<class 'pandas.core.frame.DataFrame'>\n",
      "Index: 86768 entries, 0 to 347065\n",
      "Data columns (total 7 columns):\n",
      " #   Column          Non-Null Count  Dtype \n",
      "---  ------          --------------  ----- \n",
      " 0   YEAR            86768 non-null  int64 \n",
      " 1   MODE            86768 non-null  object\n",
      " 2   SIDO            86768 non-null  object\n",
      " 3   GUNGU           86768 non-null  object\n",
      " 4   DONG            86768 non-null  object\n",
      " 5   TYPE            86768 non-null  object\n",
      " 6   AVG_ACC_MINUTE  86768 non-null  object\n",
      "dtypes: int64(1), object(6)\n",
      "memory usage: 5.3+ MB\n"
     ]
    }
   ],
   "source": [
    "data.info()"
   ]
  },
  {
   "cell_type": "code",
   "execution_count": 89,
   "metadata": {},
   "outputs": [
    {
     "name": "stderr",
     "output_type": "stream",
     "text": [
      "/tmp/ipykernel_135662/3474083213.py:1: FutureWarning: Downcasting behavior in `replace` is deprecated and will be removed in a future version. To retain the old behavior, explicitly call `result.infer_objects(copy=False)`. To opt-in to the future behavior, set `pd.set_option('future.no_silent_downcasting', True)`\n",
      "  data[\"AVG_ACC_MINUTE\"].replace(\">120\", 120.00, inplace=True)\n"
     ]
    }
   ],
   "source": [
    "data[\"AVG_ACC_MINUTE\"].replace(\">120\", 120.00, inplace=True)\n",
    "data[\"AVG_ACC_MINUTE\"].replace(\">120.00\", 120.00, inplace=True)"
   ]
  },
  {
   "cell_type": "code",
   "execution_count": 90,
   "metadata": {},
   "outputs": [
    {
     "data": {
      "text/plain": [
       "0           3.099632\n",
       "1           6.990393\n",
       "8           4.338199\n",
       "9          10.541317\n",
       "16          5.848187\n",
       "             ...    \n",
       "347049     38.262778\n",
       "347056    120.000000\n",
       "347057    120.000000\n",
       "347064     64.784548\n",
       "347065     76.915681\n",
       "Name: AVG_ACC_MINUTE, Length: 86768, dtype: float64"
      ]
     },
     "execution_count": 90,
     "metadata": {},
     "output_type": "execute_result"
    }
   ],
   "source": [
    "data[\"AVG_ACC_MINUTE\"].astype(float)"
   ]
  },
  {
   "cell_type": "code",
   "execution_count": 91,
   "metadata": {},
   "outputs": [
    {
     "name": "stdout",
     "output_type": "stream",
     "text": [
      "<class 'pandas.core.frame.DataFrame'>\n",
      "Index: 86768 entries, 0 to 347065\n",
      "Data columns (total 7 columns):\n",
      " #   Column          Non-Null Count  Dtype  \n",
      "---  ------          --------------  -----  \n",
      " 0   YEAR            86768 non-null  int64  \n",
      " 1   MODE            86768 non-null  object \n",
      " 2   SIDO            86768 non-null  object \n",
      " 3   GUNGU           86768 non-null  object \n",
      " 4   DONG            86768 non-null  object \n",
      " 5   TYPE            86768 non-null  object \n",
      " 6   AVG_ACC_MINUTE  86768 non-null  float64\n",
      "dtypes: float64(1), int64(1), object(5)\n",
      "memory usage: 5.3+ MB\n"
     ]
    }
   ],
   "source": [
    "data.info()"
   ]
  },
  {
   "cell_type": "code",
   "execution_count": 100,
   "metadata": {},
   "outputs": [
    {
     "data": {
      "text/plain": [
       "'../data/transport_time_2021.xlsx'"
      ]
     },
     "execution_count": 100,
     "metadata": {},
     "output_type": "execute_result"
    }
   ],
   "source": [
    "file_list[3]"
   ]
  },
  {
   "cell_type": "code",
   "execution_count": 103,
   "metadata": {},
   "outputs": [
    {
     "data": {
      "text/html": [
       "<div>\n",
       "<style scoped>\n",
       "    .dataframe tbody tr th:only-of-type {\n",
       "        vertical-align: middle;\n",
       "    }\n",
       "\n",
       "    .dataframe tbody tr th {\n",
       "        vertical-align: top;\n",
       "    }\n",
       "\n",
       "    .dataframe thead th {\n",
       "        text-align: right;\n",
       "    }\n",
       "</style>\n",
       "<table border=\"1\" class=\"dataframe\">\n",
       "  <thead>\n",
       "    <tr style=\"text-align: right;\">\n",
       "      <th></th>\n",
       "      <th>Year</th>\n",
       "      <th>Time_Zone</th>\n",
       "      <th>Mode</th>\n",
       "      <th>HDCD_SD_NM</th>\n",
       "      <th>HDCD_SGG_NM</th>\n",
       "      <th>HDCD_EMD_NM</th>\n",
       "      <th>Faci_CA</th>\n",
       "      <th>평균접근시간(분)</th>\n",
       "    </tr>\n",
       "  </thead>\n",
       "  <tbody>\n",
       "    <tr>\n",
       "      <th>0</th>\n",
       "      <td>2021</td>\n",
       "      <td>0_AllDay</td>\n",
       "      <td>1_PC</td>\n",
       "      <td>전국</td>\n",
       "      <td>-</td>\n",
       "      <td>-</td>\n",
       "      <td>교육시설</td>\n",
       "      <td>2.262503</td>\n",
       "    </tr>\n",
       "    <tr>\n",
       "      <th>1</th>\n",
       "      <td>2021</td>\n",
       "      <td>0_AllDay</td>\n",
       "      <td>2_PT</td>\n",
       "      <td>전국</td>\n",
       "      <td>-</td>\n",
       "      <td>-</td>\n",
       "      <td>교육시설</td>\n",
       "      <td>6.941821</td>\n",
       "    </tr>\n",
       "    <tr>\n",
       "      <th>2</th>\n",
       "      <td>2021</td>\n",
       "      <td>1_T0709</td>\n",
       "      <td>1_PC</td>\n",
       "      <td>전국</td>\n",
       "      <td>-</td>\n",
       "      <td>-</td>\n",
       "      <td>교육시설</td>\n",
       "      <td>2.154142</td>\n",
       "    </tr>\n",
       "    <tr>\n",
       "      <th>3</th>\n",
       "      <td>2021</td>\n",
       "      <td>1_T0709</td>\n",
       "      <td>2_PT</td>\n",
       "      <td>전국</td>\n",
       "      <td>-</td>\n",
       "      <td>-</td>\n",
       "      <td>교육시설</td>\n",
       "      <td>6.807373</td>\n",
       "    </tr>\n",
       "    <tr>\n",
       "      <th>4</th>\n",
       "      <td>2021</td>\n",
       "      <td>2_T1214</td>\n",
       "      <td>1_PC</td>\n",
       "      <td>전국</td>\n",
       "      <td>-</td>\n",
       "      <td>-</td>\n",
       "      <td>교육시설</td>\n",
       "      <td>2.251829</td>\n",
       "    </tr>\n",
       "  </tbody>\n",
       "</table>\n",
       "</div>"
      ],
      "text/plain": [
       "   Year Time_Zone  Mode HDCD_SD_NM HDCD_SGG_NM HDCD_EMD_NM Faci_CA 평균접근시간(분)\n",
       "0  2021  0_AllDay  1_PC         전국           -           -    교육시설  2.262503\n",
       "1  2021  0_AllDay  2_PT         전국           -           -    교육시설  6.941821\n",
       "2  2021   1_T0709  1_PC         전국           -           -    교육시설  2.154142\n",
       "3  2021   1_T0709  2_PT         전국           -           -    교육시설  6.807373\n",
       "4  2021   2_T1214  1_PC         전국           -           -    교육시설  2.251829"
      ]
     },
     "execution_count": 103,
     "metadata": {},
     "output_type": "execute_result"
    }
   ],
   "source": [
    "# 파일 불러오기 - 일 평균값, 대중교통만 사용\n",
    "data = pd.read_excel(file_list[3],sheet_name=1, usecols=(0, 5, 6, 7, 8, 9, 11, 15), header=4).fillna(0)\n",
    "data.head()"
   ]
  },
  {
   "cell_type": "code",
   "execution_count": 104,
   "metadata": {},
   "outputs": [
    {
     "name": "stderr",
     "output_type": "stream",
     "text": [
      "/tmp/ipykernel_135662/3920219560.py:18: FutureWarning: A value is trying to be set on a copy of a DataFrame or Series through chained assignment using an inplace method.\n",
      "The behavior will change in pandas 3.0. This inplace method will never work because the intermediate object on which we are setting values always behaves as a copy.\n",
      "\n",
      "For example, when doing 'df[col].method(value, inplace=True)', try using 'df.method({col: value}, inplace=True)' or df[col] = df[col].method(value) instead, to perform the operation inplace on the original object.\n",
      "\n",
      "\n",
      "  data[\"AVG_ACC_MINUTE\"].replace(\">120\", 120.00, inplace=True)\n",
      "/tmp/ipykernel_135662/3920219560.py:19: FutureWarning: A value is trying to be set on a copy of a DataFrame or Series through chained assignment using an inplace method.\n",
      "The behavior will change in pandas 3.0. This inplace method will never work because the intermediate object on which we are setting values always behaves as a copy.\n",
      "\n",
      "For example, when doing 'df[col].method(value, inplace=True)', try using 'df.method({col: value}, inplace=True)' or df[col] = df[col].method(value) instead, to perform the operation inplace on the original object.\n",
      "\n",
      "\n",
      "  data[\"AVG_ACC_MINUTE\"].replace(\">120.00\", 120.00, inplace=True)\n",
      "/tmp/ipykernel_135662/3920219560.py:19: FutureWarning: Downcasting behavior in `replace` is deprecated and will be removed in a future version. To retain the old behavior, explicitly call `result.infer_objects(copy=False)`. To opt-in to the future behavior, set `pd.set_option('future.no_silent_downcasting', True)`\n",
      "  data[\"AVG_ACC_MINUTE\"].replace(\">120.00\", 120.00, inplace=True)\n",
      "100%|██████████| 30328/30328 [09:57<00:00, 50.74it/s]"
     ]
    },
    {
     "name": "stdout",
     "output_type": "stream",
     "text": [
      "../data/transport_time_2021.xlsx 끝!!!!!\n"
     ]
    },
    {
     "name": "stderr",
     "output_type": "stream",
     "text": [
      "\n"
     ]
    }
   ],
   "source": [
    "data = data[data[\"Time_Zone\"] == \"0_AllDay\"]\n",
    "data = data.drop(columns=\"Time_Zone\")\n",
    "\n",
    "# mode 값 변경\n",
    "data = change_mode(data)\n",
    "\n",
    "# 칼럼 이름 변경\n",
    "data.columns = [\"YEAR\", \"MODE\", \"SIDO\", \"GUNGU\", \"DONG\", \"TYPE\", \"AVG_ACC_MINUTE\"]\n",
    "\n",
    "# 120분 이상 값 숫자형식으로 변경\n",
    "data = casting_time(data)\n",
    "\n",
    "# 피봇테이블로 type 별 평균 구하기\n",
    "df = pd.pivot_table(data,\n",
    "                    index= [\"YEAR\", \"MODE\", \"SIDO\", \"GUNGU\", \"DONG\"],\n",
    "                    columns= [\"TYPE\"],\n",
    "                    values= \"AVG_ACC_MINUTE\")\n",
    "df.reset_index(inplace=True)\n",
    "df_melt = df.melt(id_vars=[\"YEAR\", \"MODE\", \"SIDO\", \"GUNGU\", \"DONG\"])\n",
    "df_melt\n",
    "\n",
    "for i, row in tqdm(df_melt.iterrows(), total= df_melt.shape[0]):\n",
    "    cur.execute(sql, tuple(row))\n",
    "    remote.commit()\n",
    "\n",
    "print(file, \"끝!!!!!\")"
   ]
  },
  {
   "cell_type": "markdown",
   "metadata": {},
   "source": [
    "# 서버 닫기"
   ]
  },
  {
   "cell_type": "code",
   "execution_count": 105,
   "metadata": {},
   "outputs": [],
   "source": [
    "remote.close()"
   ]
  },
  {
   "cell_type": "code",
   "execution_count": null,
   "metadata": {},
   "outputs": [],
   "source": []
  }
 ],
 "metadata": {
  "kernelspec": {
   "display_name": "eda_venv",
   "language": "python",
   "name": "python3"
  },
  "language_info": {
   "codemirror_mode": {
    "name": "ipython",
    "version": 3
   },
   "file_extension": ".py",
   "mimetype": "text/x-python",
   "name": "python",
   "nbconvert_exporter": "python",
   "pygments_lexer": "ipython3",
   "version": "3.10.12"
  }
 },
 "nbformat": 4,
 "nbformat_minor": 2
}
